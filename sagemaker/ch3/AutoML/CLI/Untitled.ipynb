{
 "cells": [
  {
   "cell_type": "code",
   "execution_count": 1,
   "id": "00c886f9",
   "metadata": {},
   "outputs": [],
   "source": [
    "import sagemaker"
   ]
  },
  {
   "cell_type": "code",
   "execution_count": 3,
   "id": "f3fc4bd8",
   "metadata": {},
   "outputs": [],
   "source": [
    "sess = sagemaker.Session()"
   ]
  },
  {
   "cell_type": "code",
   "execution_count": 5,
   "id": "36d175dd",
   "metadata": {},
   "outputs": [
    {
     "name": "stderr",
     "output_type": "stream",
     "text": [
      "--2022-08-19 12:02:14--  https://sagemaker-sample-data-us-west-2.s3-us-west-2.amazonaws.com/autopilot/direct_marketing/bank-additional.zip\n",
      "Resolving sagemaker-sample-data-us-west-2.s3-us-west-2.amazonaws.com (sagemaker-sample-data-us-west-2.s3-us-west-2.amazonaws.com)... 52.218.128.21\n",
      "Connecting to sagemaker-sample-data-us-west-2.s3-us-west-2.amazonaws.com (sagemaker-sample-data-us-west-2.s3-us-west-2.amazonaws.com)|52.218.128.21|:443... connected.\n",
      "HTTP request sent, awaiting response... 200 OK\n",
      "Length: 432828 (423K) [application/zip]\n",
      "Saving to: ‘bank-additional.zip’\n",
      "\n",
      "     0K .......... .......... .......... .......... .......... 11% 90.7K 4s\n",
      "    50K .......... .......... .......... .......... .......... 23%  182K 3s\n",
      "   100K .......... .......... .......... .......... .......... 35% 3.85M 2s\n",
      "   150K .......... .......... .......... .......... .......... 47%  725K 1s\n",
      "   200K .......... .......... .......... .......... .......... 59%  235K 1s\n",
      "   250K .......... .......... .......... .......... .......... 70% 38.7M 0s\n",
      "   300K .......... .......... .......... .......... .......... 82% 8.00M 0s\n",
      "   350K .......... .......... .......... .......... .......... 94% 4.61M 0s\n",
      "   400K .......... .......... ..                              100%  517K=1.2s\n",
      "\n",
      "2022-08-19 12:02:17 (358 KB/s) - ‘bank-additional.zip’ saved [432828/432828]\n",
      "\n"
     ]
    },
    {
     "name": "stdout",
     "output_type": "stream",
     "text": [
      "Archive:  bank-additional.zip\n",
      "   creating: bank-additional/\n",
      "  inflating: bank-additional/bank-additional-names.txt  \n",
      "  inflating: bank-additional/bank-additional.csv  \n",
      "  inflating: bank-additional/bank-additional-full.csv  \n"
     ]
    }
   ],
   "source": [
    "%%sh\n",
    "wget -N https://sagemaker-sample-data-us-west-2.s3-us-west-2.amazonaws.com/autopilot/direct_marketing/bank-additional.zip\n",
    "unzip -o bank-additional.zip"
   ]
  },
  {
   "cell_type": "code",
   "execution_count": 8,
   "id": "73d508b0",
   "metadata": {},
   "outputs": [],
   "source": [
    "bucket = sess.default_bucket()\n",
    "prefix = 'sagemaker/DEMO-automl-dm'\n",
    "s3_input_data = sess.upload_data(path=\"./bank-additional/bank-additional-full.csv\", key_prefix=prefix+'input', bucket=bucket)"
   ]
  },
  {
   "cell_type": "code",
   "execution_count": 10,
   "id": "b75e8a1c",
   "metadata": {},
   "outputs": [
    {
     "name": "stderr",
     "output_type": "stream",
     "text": [
      "Couldn't call 'get_role' to get Role ARN from role name Huzaifa_AI_Expert to get Role path.\n"
     ]
    },
    {
     "ename": "ValueError",
     "evalue": "The current AWS identity is not a role: arn:aws:iam::687822941598:user/Huzaifa_AI_Expert, therefore it cannot be used as a SageMaker execution role",
     "output_type": "error",
     "traceback": [
      "\u001b[0;31m---------------------------------------------------------------------------\u001b[0m",
      "\u001b[0;31mValueError\u001b[0m                                Traceback (most recent call last)",
      "Input \u001b[0;32mIn [10]\u001b[0m, in \u001b[0;36m<cell line: 2>\u001b[0;34m()\u001b[0m\n\u001b[1;32m      1\u001b[0m \u001b[38;5;28;01mfrom\u001b[39;00m \u001b[38;5;21;01msagemaker\u001b[39;00m\u001b[38;5;21;01m.\u001b[39;00m\u001b[38;5;21;01mautoml\u001b[39;00m\u001b[38;5;21;01m.\u001b[39;00m\u001b[38;5;21;01mautoml\u001b[39;00m \u001b[38;5;28;01mimport\u001b[39;00m AutoML\n\u001b[1;32m      2\u001b[0m auto_ml_job \u001b[38;5;241m=\u001b[39m AutoML(\n\u001b[0;32m----> 3\u001b[0m     role \u001b[38;5;241m=\u001b[39m \u001b[43msagemaker\u001b[49m\u001b[38;5;241;43m.\u001b[39;49m\u001b[43mget_execution_role\u001b[49m\u001b[43m(\u001b[49m\u001b[43m)\u001b[49m,\n\u001b[1;32m      4\u001b[0m     sagemaker_session\u001b[38;5;241m=\u001b[39msess,\n\u001b[1;32m      5\u001b[0m     target_attribute_nme \u001b[38;5;241m=\u001b[39m \u001b[38;5;124m'\u001b[39m\u001b[38;5;124my\u001b[39m\u001b[38;5;124m'\u001b[39m,\n\u001b[1;32m      6\u001b[0m     output_path\u001b[38;5;241m=\u001b[39m\u001b[38;5;124m'\u001b[39m\u001b[38;5;124ms3://\u001b[39m\u001b[38;5;132;01m{}\u001b[39;00m\u001b[38;5;124m/\u001b[39m\u001b[38;5;132;01m{}\u001b[39;00m\u001b[38;5;124m/output\u001b[39m\u001b[38;5;124m'\u001b[39m\u001b[38;5;241m.\u001b[39mformat(bucket, prefix),\n\u001b[1;32m      7\u001b[0m     max_runtime_per_training_job_in_seconds\u001b[38;5;241m=\u001b[39m\u001b[38;5;241m600\u001b[39m,\n\u001b[1;32m      8\u001b[0m     max_candidates\u001b[38;5;241m=\u001b[39m\u001b[38;5;241m250\u001b[39m,\n\u001b[1;32m      9\u001b[0m     total_job_runtime_in_seconds\u001b[38;5;241m=\u001b[39m\u001b[38;5;241m3600\u001b[39m,\n\u001b[1;32m     10\u001b[0m     \n\u001b[1;32m     11\u001b[0m )\n",
      "File \u001b[0;32m~/Desktop/Github/PIAIC-Q4/quarter4/lib/python3.10/site-packages/sagemaker/session.py:4536\u001b[0m, in \u001b[0;36mget_execution_role\u001b[0;34m(sagemaker_session)\u001b[0m\n\u001b[1;32m   4531\u001b[0m     \u001b[38;5;28;01mreturn\u001b[39;00m arn\n\u001b[1;32m   4532\u001b[0m message \u001b[38;5;241m=\u001b[39m (\n\u001b[1;32m   4533\u001b[0m     \u001b[38;5;124m\"\u001b[39m\u001b[38;5;124mThe current AWS identity is not a role: \u001b[39m\u001b[38;5;132;01m{}\u001b[39;00m\u001b[38;5;124m, therefore it cannot be used as a \u001b[39m\u001b[38;5;124m\"\u001b[39m\n\u001b[1;32m   4534\u001b[0m     \u001b[38;5;124m\"\u001b[39m\u001b[38;5;124mSageMaker execution role\u001b[39m\u001b[38;5;124m\"\u001b[39m\n\u001b[1;32m   4535\u001b[0m )\n\u001b[0;32m-> 4536\u001b[0m \u001b[38;5;28;01mraise\u001b[39;00m \u001b[38;5;167;01mValueError\u001b[39;00m(message\u001b[38;5;241m.\u001b[39mformat(arn))\n",
      "\u001b[0;31mValueError\u001b[0m: The current AWS identity is not a role: arn:aws:iam::687822941598:user/Huzaifa_AI_Expert, therefore it cannot be used as a SageMaker execution role"
     ]
    }
   ],
   "source": [
    "from sagemaker.automl.automl import AutoML\n",
    "auto_ml_job = AutoML(\n",
    "    role = sagemaker.get_execution_role(),\n",
    "    sagemaker_session=sess,\n",
    "    target_attribute_nme = 'y',\n",
    "    output_path='s3://{}/{}/output'.format(bucket, prefix),\n",
    "    max_runtime_per_training_job_in_seconds=600,\n",
    "    max_candidates=250,\n",
    "    total_job_runtime_in_seconds=3600,\n",
    ")"
   ]
  },
  {
   "cell_type": "code",
   "execution_count": null,
   "id": "5a640f0b",
   "metadata": {},
   "outputs": [],
   "source": []
  }
 ],
 "metadata": {
  "kernelspec": {
   "display_name": "sagemaker",
   "language": "python",
   "name": "sagemaker"
  },
  "language_info": {
   "codemirror_mode": {
    "name": "ipython",
    "version": 3
   },
   "file_extension": ".py",
   "mimetype": "text/x-python",
   "name": "python",
   "nbconvert_exporter": "python",
   "pygments_lexer": "ipython3",
   "version": "3.10.4"
  }
 },
 "nbformat": 4,
 "nbformat_minor": 5
}
